{
 "cells": [
  {
   "cell_type": "code",
   "execution_count": 1,
   "id": "71cb6a63",
   "metadata": {},
   "outputs": [],
   "source": [
    "from collections import Counter\n"
   ]
  },
  {
   "cell_type": "code",
   "execution_count": 10,
   "id": "a2dcda89",
   "metadata": {},
   "outputs": [
    {
     "name": "stdout",
     "output_type": "stream",
     "text": [
      "3\n",
      "sadf\n",
      "dsfaghf\n",
      "dfgaser\n",
      "3\n",
      "1 1 1\n"
     ]
    }
   ],
   "source": [
    "n = int(input())\n",
    "l=[]\n",
    "for i in range(n):\n",
    "    l.append(input())\n",
    "x=Counter(l)\n",
    "print(len(x))\n",
    "print(*x.values())"
   ]
  },
  {
   "cell_type": "code",
   "execution_count": null,
   "id": "962a6396",
   "metadata": {},
   "outputs": [],
   "source": []
  }
 ],
 "metadata": {
  "kernelspec": {
   "display_name": "Python 3 (ipykernel)",
   "language": "python",
   "name": "python3"
  },
  "language_info": {
   "codemirror_mode": {
    "name": "ipython",
    "version": 3
   },
   "file_extension": ".py",
   "mimetype": "text/x-python",
   "name": "python",
   "nbconvert_exporter": "python",
   "pygments_lexer": "ipython3",
   "version": "3.9.12"
  }
 },
 "nbformat": 4,
 "nbformat_minor": 5
}
