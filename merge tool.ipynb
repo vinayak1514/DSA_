{
 "cells": [
  {
   "cell_type": "code",
   "execution_count": 54,
   "id": "dd5eaca6",
   "metadata": {},
   "outputs": [
    {
     "name": "stdout",
     "output_type": "stream",
     "text": [
      "asdfdafsfdasewq\n",
      "3\n",
      "asd\n",
      "fda\n",
      "fs\n",
      "das\n",
      "ewq\n"
     ]
    }
   ],
   "source": [
    "def merge_the_tools(string, k):\n",
    "    # your code goes here\n",
    "        m=0 \n",
    "        l = []\n",
    "        for i in range(len(string)//k):\n",
    "            l.append(string[m:m+k])\n",
    "            m+=k\n",
    "        for v in l:\n",
    "            print(\"\".join(list(dict.fromkeys(list(v)).keys())))\n",
    "if __name__ == '__main__':\n",
    "    string, k = input(), int(input())\n",
    "    merge_the_tools(string, k)"
   ]
  },
  {
   "cell_type": "code",
   "execution_count": null,
   "id": "9639f21b",
   "metadata": {},
   "outputs": [],
   "source": []
  }
 ],
 "metadata": {
  "kernelspec": {
   "display_name": "Python 3 (ipykernel)",
   "language": "python",
   "name": "python3"
  },
  "language_info": {
   "codemirror_mode": {
    "name": "ipython",
    "version": 3
   },
   "file_extension": ".py",
   "mimetype": "text/x-python",
   "name": "python",
   "nbconvert_exporter": "python",
   "pygments_lexer": "ipython3",
   "version": "3.9.12"
  }
 },
 "nbformat": 4,
 "nbformat_minor": 5
}
